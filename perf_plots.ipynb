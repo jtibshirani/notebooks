{
 "cells": [
  {
   "cell_type": "code",
   "execution_count": 13,
   "metadata": {},
   "outputs": [
    {
     "data": {
      "text/plain": [
       "'plot.html'"
      ]
     },
     "execution_count": 13,
     "metadata": {},
     "output_type": "execute_result"
    }
   ],
   "source": [
    "from plotly.offline import plot\n",
    "import pandas as pd\n",
    "import plotly.graph_objects as go\n",
    "\n",
    "y = [0.0024, 0.0032, 0.0057, 0.0116]\n",
    "y_shifted = [0.0004, 0.0012, 0.0037, 0.0096]\n",
    "data = [go.Line(x=[10, 20, 50, 100],\n",
    "                y=y_shifted)]\n",
    "\n",
    "plot(data, filename='plot.html')"
   ]
  }
 ],
 "metadata": {
  "kernelspec": {
   "display_name": "Python 3",
   "language": "python",
   "name": "python3"
  },
  "language_info": {
   "codemirror_mode": {
    "name": "ipython",
    "version": 3
   },
   "file_extension": ".py",
   "mimetype": "text/x-python",
   "name": "python",
   "nbconvert_exporter": "python",
   "pygments_lexer": "ipython3",
   "version": "3.6.8"
  }
 },
 "nbformat": 4,
 "nbformat_minor": 2
}
