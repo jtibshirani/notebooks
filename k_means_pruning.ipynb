{
 "cells": [
  {
   "cell_type": "markdown",
   "metadata": {},
   "source": [
    "## Set-up analysis and load data."
   ]
  },
  {
   "cell_type": "code",
   "execution_count": 1,
   "metadata": {},
   "outputs": [],
   "source": [
    "import pandas as pd\n",
    "\n",
    "GLOVE_FILE = \"glove-100-angular.hdf5\"\n",
    "STACKOVERFLOW_FILE = \"stackoverflow-512-angular.hdf5\"\n",
    "IMAGENET_FILE = \"imagenet-96-angular.hdf5\"\n",
    "\n",
    "num_queries = 100\n",
    "k = 10\n",
    "\n",
    "quantiles = (0.0, 0.1, 0.5, 0.9, 1.0)"
   ]
  },
  {
   "cell_type": "code",
   "execution_count": 2,
   "metadata": {
    "scrolled": true
   },
   "outputs": [
    {
     "name": "stdout",
     "output_type": "stream",
     "text": [
      "train_data.shape: (1000000, 96)\n"
     ]
    }
   ],
   "source": [
    "import h5py\n",
    "import numpy as np\n",
    "from sklearn import preprocessing\n",
    "\n",
    "def load_data(filename):\n",
    "    dataset = h5py.File(filename, 'r')\n",
    "\n",
    "    train_data = np.array(dataset['train'])\n",
    "    test_data = np.array(dataset['test'])[:num_queries]\n",
    "\n",
    "    train_data = preprocessing.normalize(train_data, axis=1, norm='l2')\n",
    "    test_data = preprocessing.normalize(test_data, axis=1, norm='l2')\n",
    "    return (train_data, test_data)\n",
    "\n",
    "(train_data, test_data) = load_data(IMAGENET_FILE)\n",
    "print('train_data.shape:', train_data.shape)"
   ]
  },
  {
   "cell_type": "markdown",
   "metadata": {},
   "source": [
    "## How well does the data cluster?"
   ]
  },
  {
   "cell_type": "code",
   "execution_count": 12,
   "metadata": {
    "scrolled": true
   },
   "outputs": [],
   "source": [
    "import faiss\n",
    "\n",
    "def run_kmeans(data, n_centroids):\n",
    "    sample_size = int(len(data) / 2)\n",
    "\n",
    "    sample = np.random.permutation(data)[:sample_size]\n",
    "    sample = sample.astype(np.float32)\n",
    "\n",
    "    kmeans = faiss.Kmeans(data.shape[1], n_centroids, niter=20, verbose=True)\n",
    "    kmeans.train(data)\n",
    "    return kmeans\n",
    "\n",
    "def compute_cluster_stats(model, data):\n",
    "    sample_size = int(len(data) / 2)\n",
    "    sample = np.random.permutation(data)[:sample_size]\n",
    "    \n",
    "    dists = []\n",
    "    other_dists = []\n",
    "    centroid_dists = []\n",
    "    \n",
    "    D, I = model.index.search(sample, len(model.centroids))\n",
    "    for i, v in enumerate(sample):\n",
    "        dists.append(np.sqrt(D[i][0]))\n",
    "        other_dists.extend(np.sqrt(D[i][1:]))\n",
    "        \n",
    "    D, I = model.index.search(model.centroids, len(model.centroids))\n",
    "    for i, v in enumerate(model.centroids):\n",
    "        centroid_dists.extend(np.sqrt(D[i][1:]))\n",
    "        \n",
    "    return (dists, other_dists, centroid_dists)"
   ]
  },
  {
   "cell_type": "markdown",
   "metadata": {},
   "source": [
    "### Run k-means on the dataset."
   ]
  },
  {
   "cell_type": "code",
   "execution_count": 13,
   "metadata": {},
   "outputs": [],
   "source": [
    "n_centroids = 1000\n",
    "index = ['dist to nearest centroid', 'dist to other centroids', 'dist between centroids']"
   ]
  },
  {
   "cell_type": "code",
   "execution_count": 14,
   "metadata": {
    "scrolled": true
   },
   "outputs": [
    {
     "data": {
      "text/html": [
       "<div>\n",
       "<style scoped>\n",
       "    .dataframe tbody tr th:only-of-type {\n",
       "        vertical-align: middle;\n",
       "    }\n",
       "\n",
       "    .dataframe tbody tr th {\n",
       "        vertical-align: top;\n",
       "    }\n",
       "\n",
       "    .dataframe thead th {\n",
       "        text-align: right;\n",
       "    }\n",
       "</style>\n",
       "<table border=\"1\" class=\"dataframe\">\n",
       "  <thead>\n",
       "    <tr style=\"text-align: right;\">\n",
       "      <th></th>\n",
       "      <th>0.0</th>\n",
       "      <th>0.1</th>\n",
       "      <th>0.5</th>\n",
       "      <th>0.9</th>\n",
       "      <th>1.0</th>\n",
       "    </tr>\n",
       "  </thead>\n",
       "  <tbody>\n",
       "    <tr>\n",
       "      <th>dist to nearest centroid</th>\n",
       "      <td>0.095</td>\n",
       "      <td>0.506</td>\n",
       "      <td>0.685</td>\n",
       "      <td>0.828</td>\n",
       "      <td>1.009</td>\n",
       "    </tr>\n",
       "    <tr>\n",
       "      <th>dist to other centroids</th>\n",
       "      <td>0.217</td>\n",
       "      <td>1.021</td>\n",
       "      <td>1.185</td>\n",
       "      <td>1.295</td>\n",
       "      <td>1.650</td>\n",
       "    </tr>\n",
       "    <tr>\n",
       "      <th>dist between centroids</th>\n",
       "      <td>0.252</td>\n",
       "      <td>0.766</td>\n",
       "      <td>0.950</td>\n",
       "      <td>1.090</td>\n",
       "      <td>1.424</td>\n",
       "    </tr>\n",
       "  </tbody>\n",
       "</table>\n",
       "</div>"
      ],
      "text/plain": [
       "                            0.0    0.1    0.5    0.9    1.0\n",
       "dist to nearest centroid  0.095  0.506  0.685  0.828  1.009\n",
       "dist to other centroids   0.217  1.021  1.185  1.295  1.650\n",
       "dist between centroids    0.252  0.766  0.950  1.090  1.424"
      ]
     },
     "execution_count": 14,
     "metadata": {},
     "output_type": "execute_result"
    }
   ],
   "source": [
    "kmeans = run_kmeans(train_data, n_centroids)\n",
    "cluster_stats = compute_cluster_stats(kmeans, train_data)\n",
    "\n",
    "output = [np.quantile(stats, quantiles) for stats in cluster_stats]\n",
    "df = pd.DataFrame(output, index=index, columns=quantiles)\n",
    "df.round(3)"
   ]
  },
  {
   "cell_type": "markdown",
   "metadata": {},
   "source": [
    "### Run k-means on a random matrix."
   ]
  },
  {
   "cell_type": "code",
   "execution_count": 6,
   "metadata": {},
   "outputs": [],
   "source": [
    "n = train_data.shape[0]\n",
    "p = train_data.shape[1]\n",
    "\n",
    "random_data = np.random.normal(0, 1, n * p).reshape(n, p)\n",
    "random_data = preprocessing.normalize(random_data, axis=1, norm='l2')\n",
    "random_data = random_data.astype(np.float32)"
   ]
  },
  {
   "cell_type": "code",
   "execution_count": 7,
   "metadata": {
    "scrolled": false
   },
   "outputs": [
    {
     "data": {
      "text/html": [
       "<div>\n",
       "<style scoped>\n",
       "    .dataframe tbody tr th:only-of-type {\n",
       "        vertical-align: middle;\n",
       "    }\n",
       "\n",
       "    .dataframe tbody tr th {\n",
       "        vertical-align: top;\n",
       "    }\n",
       "\n",
       "    .dataframe thead th {\n",
       "        text-align: right;\n",
       "    }\n",
       "</style>\n",
       "<table border=\"1\" class=\"dataframe\">\n",
       "  <thead>\n",
       "    <tr style=\"text-align: right;\">\n",
       "      <th></th>\n",
       "      <th>0.0</th>\n",
       "      <th>0.1</th>\n",
       "      <th>0.5</th>\n",
       "      <th>0.9</th>\n",
       "      <th>1.0</th>\n",
       "    </tr>\n",
       "  </thead>\n",
       "  <tbody>\n",
       "    <tr>\n",
       "      <th>dist to nearest centroid</th>\n",
       "      <td>0.868</td>\n",
       "      <td>0.984</td>\n",
       "      <td>0.990</td>\n",
       "      <td>0.993</td>\n",
       "      <td>0.998</td>\n",
       "    </tr>\n",
       "    <tr>\n",
       "      <th>dist to other centroids</th>\n",
       "      <td>0.980</td>\n",
       "      <td>1.005</td>\n",
       "      <td>1.015</td>\n",
       "      <td>1.025</td>\n",
       "      <td>1.054</td>\n",
       "    </tr>\n",
       "    <tr>\n",
       "      <th>dist between centroids</th>\n",
       "      <td>0.220</td>\n",
       "      <td>0.239</td>\n",
       "      <td>0.246</td>\n",
       "      <td>0.254</td>\n",
       "      <td>0.273</td>\n",
       "    </tr>\n",
       "  </tbody>\n",
       "</table>\n",
       "</div>"
      ],
      "text/plain": [
       "                            0.0    0.1    0.5    0.9    1.0\n",
       "dist to nearest centroid  0.868  0.984  0.990  0.993  0.998\n",
       "dist to other centroids   0.980  1.005  1.015  1.025  1.054\n",
       "dist between centroids    0.220  0.239  0.246  0.254  0.273"
      ]
     },
     "execution_count": 7,
     "metadata": {},
     "output_type": "execute_result"
    }
   ],
   "source": [
    "random_kmeans = run_kmeans(random_data, n_centroids)\n",
    "random_cluster_stats = compute_cluster_stats(random_kmeans, random_data)\n",
    "\n",
    "output = [np.quantile(stats, quantiles) for stats in random_cluster_stats]\n",
    "df2 = pd.DataFrame(output, index=index, columns=quantiles)\n",
    "df2.round(3)"
   ]
  },
  {
   "cell_type": "markdown",
   "metadata": {},
   "source": [
    "## How do kNN distances relate to these clusters?"
   ]
  },
  {
   "cell_type": "markdown",
   "metadata": {},
   "source": [
    "### For small test sample, calculate distance to centroids, plus nearest neighbors at 1, 10, and 100."
   ]
  },
  {
   "cell_type": "code",
   "execution_count": 8,
   "metadata": {
    "scrolled": false
   },
   "outputs": [],
   "source": [
    "index = ['d(c, v)',\n",
    "         'd(q, c_10)', 'd(q, c_100)', 'd(q, c_500)', 'd(q, c_900)',\n",
    "         'nn_1', 'nn_10', 'nn_100']\n",
    "\n",
    "def compute_test_stats(train_data, test_data, model):\n",
    "    nn1 = []\n",
    "    nn10 = []\n",
    "    nn100 = []\n",
    "\n",
    "    centroid10 = []\n",
    "    centroid100 = []\n",
    "    centroid500 = []\n",
    "    centroid900 = []\n",
    "\n",
    "    D, I = model.index.search(test_data, len(model.centroids))\n",
    "\n",
    "    for i, q in enumerate(test_data):\n",
    "        dists = np.linalg.norm(q - train_data, axis=1)\n",
    "        dists.sort()\n",
    "\n",
    "        centroid10.append(np.sqrt(D[i][9]))\n",
    "        centroid100.append(np.sqrt(D[i][99]))\n",
    "        centroid500.append(np.sqrt(D[i][499]))\n",
    "        centroid900.append(np.sqrt(D[i][899]))\n",
    "\n",
    "        nn1.append(dists[0])\n",
    "        nn10.append(dists[9])\n",
    "        nn100.append(dists[99])\n",
    "        \n",
    "    return (centroid10, centroid100, centroid500, centroid900, nn1, nn10, nn100)"
   ]
  },
  {
   "cell_type": "code",
   "execution_count": 9,
   "metadata": {},
   "outputs": [
    {
     "data": {
      "text/html": [
       "<div>\n",
       "<style scoped>\n",
       "    .dataframe tbody tr th:only-of-type {\n",
       "        vertical-align: middle;\n",
       "    }\n",
       "\n",
       "    .dataframe tbody tr th {\n",
       "        vertical-align: top;\n",
       "    }\n",
       "\n",
       "    .dataframe thead th {\n",
       "        text-align: right;\n",
       "    }\n",
       "</style>\n",
       "<table border=\"1\" class=\"dataframe\">\n",
       "  <thead>\n",
       "    <tr style=\"text-align: right;\">\n",
       "      <th></th>\n",
       "      <th>0.0</th>\n",
       "      <th>0.1</th>\n",
       "      <th>0.5</th>\n",
       "      <th>0.9</th>\n",
       "      <th>1.0</th>\n",
       "    </tr>\n",
       "  </thead>\n",
       "  <tbody>\n",
       "    <tr>\n",
       "      <th>d(c, v)</th>\n",
       "      <td>0.187</td>\n",
       "      <td>0.370</td>\n",
       "      <td>0.476</td>\n",
       "      <td>0.631</td>\n",
       "      <td>1.017</td>\n",
       "    </tr>\n",
       "    <tr>\n",
       "      <th>d(q, c_10)</th>\n",
       "      <td>0.451</td>\n",
       "      <td>0.499</td>\n",
       "      <td>0.572</td>\n",
       "      <td>0.721</td>\n",
       "      <td>0.931</td>\n",
       "    </tr>\n",
       "    <tr>\n",
       "      <th>d(q, c_100)</th>\n",
       "      <td>0.587</td>\n",
       "      <td>0.643</td>\n",
       "      <td>0.695</td>\n",
       "      <td>0.817</td>\n",
       "      <td>1.022</td>\n",
       "    </tr>\n",
       "    <tr>\n",
       "      <th>d(q, c_500)</th>\n",
       "      <td>0.706</td>\n",
       "      <td>0.774</td>\n",
       "      <td>0.831</td>\n",
       "      <td>0.928</td>\n",
       "      <td>1.105</td>\n",
       "    </tr>\n",
       "    <tr>\n",
       "      <th>d(q, c_900)</th>\n",
       "      <td>0.871</td>\n",
       "      <td>0.910</td>\n",
       "      <td>0.963</td>\n",
       "      <td>1.031</td>\n",
       "      <td>1.169</td>\n",
       "    </tr>\n",
       "    <tr>\n",
       "      <th>nn_1</th>\n",
       "      <td>0.250</td>\n",
       "      <td>0.326</td>\n",
       "      <td>0.431</td>\n",
       "      <td>0.596</td>\n",
       "      <td>0.712</td>\n",
       "    </tr>\n",
       "    <tr>\n",
       "      <th>nn_10</th>\n",
       "      <td>0.294</td>\n",
       "      <td>0.383</td>\n",
       "      <td>0.483</td>\n",
       "      <td>0.683</td>\n",
       "      <td>0.826</td>\n",
       "    </tr>\n",
       "    <tr>\n",
       "      <th>nn_100</th>\n",
       "      <td>0.355</td>\n",
       "      <td>0.431</td>\n",
       "      <td>0.528</td>\n",
       "      <td>0.719</td>\n",
       "      <td>0.923</td>\n",
       "    </tr>\n",
       "  </tbody>\n",
       "</table>\n",
       "</div>"
      ],
      "text/plain": [
       "               0.0    0.1    0.5    0.9    1.0\n",
       "d(c, v)      0.187  0.370  0.476  0.631  1.017\n",
       "d(q, c_10)   0.451  0.499  0.572  0.721  0.931\n",
       "d(q, c_100)  0.587  0.643  0.695  0.817  1.022\n",
       "d(q, c_500)  0.706  0.774  0.831  0.928  1.105\n",
       "d(q, c_900)  0.871  0.910  0.963  1.031  1.169\n",
       "nn_1         0.250  0.326  0.431  0.596  0.712\n",
       "nn_10        0.294  0.383  0.483  0.683  0.826\n",
       "nn_100       0.355  0.431  0.528  0.719  0.923"
      ]
     },
     "execution_count": 9,
     "metadata": {},
     "output_type": "execute_result"
    }
   ],
   "source": [
    "test_stats = compute_test_stats(train_data, test_data, kmeans)\n",
    "output = [np.quantile(cluster_stats[0], quantiles)]\n",
    "output.extend([np.quantile(stats, quantiles) for stats in test_stats])\n",
    "\n",
    "df = pd.DataFrame(output, index=index, columns=quantiles)\n",
    "df.round(3)"
   ]
  },
  {
   "cell_type": "markdown",
   "metadata": {},
   "source": [
    "### Would more fine-grained clustering help?"
   ]
  },
  {
   "cell_type": "code",
   "execution_count": 11,
   "metadata": {},
   "outputs": [],
   "source": [
    "more_centroids = 2000\n",
    "more_kmeans = run_kmeans(train_data, more_centroids)\n",
    "\n",
    "sample_size = int(len(train_data) / 10)\n",
    "sample = np.random.permutation(train_data)[:sample_size]\n",
    "dists = []\n",
    "\n",
    "D, I = more_kmeans.index.search(sample, len(more_kmeans.centroids))\n",
    "for i, v in enumerate(sample):\n",
    "    dists.append(np.sqrt(D[i][0]))"
   ]
  },
  {
   "cell_type": "code",
   "execution_count": 12,
   "metadata": {},
   "outputs": [
    {
     "data": {
      "text/html": [
       "<div>\n",
       "<style scoped>\n",
       "    .dataframe tbody tr th:only-of-type {\n",
       "        vertical-align: middle;\n",
       "    }\n",
       "\n",
       "    .dataframe tbody tr th {\n",
       "        vertical-align: top;\n",
       "    }\n",
       "\n",
       "    .dataframe thead th {\n",
       "        text-align: right;\n",
       "    }\n",
       "</style>\n",
       "<table border=\"1\" class=\"dataframe\">\n",
       "  <thead>\n",
       "    <tr style=\"text-align: right;\">\n",
       "      <th></th>\n",
       "      <th>0.0</th>\n",
       "      <th>0.1</th>\n",
       "      <th>0.5</th>\n",
       "      <th>0.9</th>\n",
       "      <th>1.0</th>\n",
       "    </tr>\n",
       "  </thead>\n",
       "  <tbody>\n",
       "    <tr>\n",
       "      <th>d(c, v)</th>\n",
       "      <td>0.171</td>\n",
       "      <td>0.356</td>\n",
       "      <td>0.461</td>\n",
       "      <td>0.615</td>\n",
       "      <td>0.991</td>\n",
       "    </tr>\n",
       "    <tr>\n",
       "      <th>d(q, c_10)</th>\n",
       "      <td>0.418</td>\n",
       "      <td>0.470</td>\n",
       "      <td>0.545</td>\n",
       "      <td>0.702</td>\n",
       "      <td>0.922</td>\n",
       "    </tr>\n",
       "    <tr>\n",
       "      <th>d(q, c_100)</th>\n",
       "      <td>0.560</td>\n",
       "      <td>0.587</td>\n",
       "      <td>0.655</td>\n",
       "      <td>0.786</td>\n",
       "      <td>1.002</td>\n",
       "    </tr>\n",
       "    <tr>\n",
       "      <th>d(q, c_500)</th>\n",
       "      <td>0.647</td>\n",
       "      <td>0.715</td>\n",
       "      <td>0.770</td>\n",
       "      <td>0.878</td>\n",
       "      <td>1.071</td>\n",
       "    </tr>\n",
       "    <tr>\n",
       "      <th>d(q, c_900)</th>\n",
       "      <td>0.702</td>\n",
       "      <td>0.766</td>\n",
       "      <td>0.830</td>\n",
       "      <td>0.925</td>\n",
       "      <td>1.105</td>\n",
       "    </tr>\n",
       "    <tr>\n",
       "      <th>nn_1</th>\n",
       "      <td>0.250</td>\n",
       "      <td>0.326</td>\n",
       "      <td>0.431</td>\n",
       "      <td>0.596</td>\n",
       "      <td>0.712</td>\n",
       "    </tr>\n",
       "    <tr>\n",
       "      <th>nn_10</th>\n",
       "      <td>0.294</td>\n",
       "      <td>0.383</td>\n",
       "      <td>0.483</td>\n",
       "      <td>0.683</td>\n",
       "      <td>0.826</td>\n",
       "    </tr>\n",
       "    <tr>\n",
       "      <th>nn_100</th>\n",
       "      <td>0.355</td>\n",
       "      <td>0.431</td>\n",
       "      <td>0.528</td>\n",
       "      <td>0.719</td>\n",
       "      <td>0.923</td>\n",
       "    </tr>\n",
       "  </tbody>\n",
       "</table>\n",
       "</div>"
      ],
      "text/plain": [
       "               0.0    0.1    0.5    0.9    1.0\n",
       "d(c, v)      0.171  0.356  0.461  0.615  0.991\n",
       "d(q, c_10)   0.418  0.470  0.545  0.702  0.922\n",
       "d(q, c_100)  0.560  0.587  0.655  0.786  1.002\n",
       "d(q, c_500)  0.647  0.715  0.770  0.878  1.071\n",
       "d(q, c_900)  0.702  0.766  0.830  0.925  1.105\n",
       "nn_1         0.250  0.326  0.431  0.596  0.712\n",
       "nn_10        0.294  0.383  0.483  0.683  0.826\n",
       "nn_100       0.355  0.431  0.528  0.719  0.923"
      ]
     },
     "execution_count": 12,
     "metadata": {},
     "output_type": "execute_result"
    }
   ],
   "source": [
    "more_test_stats = compute_test_stats(train_data, test_data, more_kmeans)\n",
    "output = [np.quantile(dists, quantiles)]\n",
    "output.extend([np.quantile(stats, quantiles) for stats in more_test_stats])\n",
    "\n",
    "df = pd.DataFrame(output, index=index, columns=quantiles)\n",
    "df.round(3)"
   ]
  }
 ],
 "metadata": {
  "kernelspec": {
   "display_name": "Python 3",
   "language": "python",
   "name": "python3"
  },
  "language_info": {
   "codemirror_mode": {
    "name": "ipython",
    "version": 3
   },
   "file_extension": ".py",
   "mimetype": "text/x-python",
   "name": "python",
   "nbconvert_exporter": "python",
   "pygments_lexer": "ipython3",
   "version": "3.6.8"
  }
 },
 "nbformat": 4,
 "nbformat_minor": 2
}
